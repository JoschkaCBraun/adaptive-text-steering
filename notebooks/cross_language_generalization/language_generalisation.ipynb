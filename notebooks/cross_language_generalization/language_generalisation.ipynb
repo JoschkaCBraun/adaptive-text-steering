{
 "cells": [
  {
   "cell_type": "markdown",
   "metadata": {},
   "source": [
    "# Cross Language Generalization of Steering Vectors"
   ]
  },
  {
   "cell_type": "code",
   "execution_count": 61,
   "metadata": {},
   "outputs": [],
   "source": [
    "import os\n",
    "import sys\n",
    "import pandas as pd"
   ]
  },
  {
   "cell_type": "code",
   "execution_count": 2,
   "metadata": {},
   "outputs": [],
   "source": [
    "sys.path.append('../..')"
   ]
  },
  {
   "cell_type": "code",
   "execution_count": 54,
   "metadata": {},
   "outputs": [],
   "source": [
    "# import get data dir from load_and_get_utils\n",
    "from utils.load_and_get_utils import load_dataset, get_device, get_data_dir"
   ]
  },
  {
   "cell_type": "code",
   "execution_count": 5,
   "metadata": {},
   "outputs": [
    {
     "name": "stderr",
     "output_type": "stream",
     "text": [
      "2024-08-07 10:58:05,856 - INFO - Data directory found at /Users/joschka/Documents/0_Studium/0_ML_Master/0_current/masters_thesis/code/kasl_repe/data.\n",
      "2024-08-07 10:58:05,910 - INFO - Successfully loaded imdb_sentiment_test dataset.\n",
      "2024-08-07 10:58:05,911 - INFO - Data directory found at /Users/joschka/Documents/0_Studium/0_ML_Master/0_current/masters_thesis/code/kasl_repe/data.\n",
      "2024-08-07 10:58:05,931 - INFO - Successfully loaded imdb_sentiment_train dataset.\n"
     ]
    }
   ],
   "source": [
    "imdb_sentiment_test = load_dataset(dataset_name='imdb_sentiment_test')\n",
    "imdb_sentiment_train = load_dataset(dataset_name='imdb_sentiment_train')"
   ]
  },
  {
   "cell_type": "code",
   "execution_count": 6,
   "metadata": {},
   "outputs": [
    {
     "name": "stdout",
     "output_type": "stream",
     "text": [
      "Training Set Shape: (25000, 2)\n",
      "Testing Set Shape: (25000, 2)\n"
     ]
    }
   ],
   "source": [
    "# 1. Shape of the Dataset\n",
    "print(\"Training Set Shape:\", imdb_sentiment_train.shape)\n",
    "print(\"Testing Set Shape:\", imdb_sentiment_test.shape)"
   ]
  },
  {
   "cell_type": "code",
   "execution_count": 7,
   "metadata": {},
   "outputs": [
    {
     "name": "stdout",
     "output_type": "stream",
     "text": [
      "Training Data Preview:\n",
      "                                                text  label\n",
      "0  I rented I AM CURIOUS-YELLOW from my video sto...      0\n",
      "1  \"I Am Curious: Yellow\" is a risible and preten...      0\n",
      "2  If only to avoid making this type of film in t...      0\n",
      "3  This film was probably inspired by Godard's Ma...      0\n",
      "4  Oh, brother...after hearing about this ridicul...      0\n",
      "Testing Data Preview:\n",
      "                                                text  label\n",
      "0  I love sci-fi and am willing to put up with a ...      0\n",
      "1  Worth the entertainment value of a rental, esp...      0\n",
      "2  its a totally average film with a few semi-alr...      0\n",
      "3  STAR RATING: ***** Saturday Night **** Friday ...      0\n",
      "4  First off let me say, If you haven't enjoyed a...      0\n"
     ]
    }
   ],
   "source": [
    "# 2. Preview of Data\n",
    "print(\"Training Data Preview:\")\n",
    "print(imdb_sentiment_train.head())\n",
    "print(\"Testing Data Preview:\")\n",
    "print(imdb_sentiment_test.head())"
   ]
  },
  {
   "cell_type": "code",
   "execution_count": 8,
   "metadata": {},
   "outputs": [
    {
     "name": "stdout",
     "output_type": "stream",
     "text": [
      "Training Data Description:\n",
      "             label\n",
      "count  25000.00000\n",
      "mean       0.50000\n",
      "std        0.50001\n",
      "min        0.00000\n",
      "25%        0.00000\n",
      "50%        0.50000\n",
      "75%        1.00000\n",
      "max        1.00000\n",
      "Testing Data Description:\n",
      "             label\n",
      "count  25000.00000\n",
      "mean       0.50000\n",
      "std        0.50001\n",
      "min        0.00000\n",
      "25%        0.00000\n",
      "50%        0.50000\n",
      "75%        1.00000\n",
      "max        1.00000\n"
     ]
    }
   ],
   "source": [
    "# 3. Summary Statistics\n",
    "print(\"Training Data Description:\")\n",
    "print(imdb_sentiment_train.describe())\n",
    "print(\"Testing Data Description:\")\n",
    "print(imdb_sentiment_test.describe())"
   ]
  },
  {
   "cell_type": "code",
   "execution_count": 9,
   "metadata": {},
   "outputs": [
    {
     "name": "stdout",
     "output_type": "stream",
     "text": [
      "Missing Values in Training Data:\n",
      "text     0\n",
      "label    0\n",
      "dtype: int64\n",
      "Missing Values in Testing Data:\n",
      "text     0\n",
      "label    0\n",
      "dtype: int64\n"
     ]
    }
   ],
   "source": [
    "# 4. Null Value Check\n",
    "print(\"Missing Values in Training Data:\")\n",
    "print(imdb_sentiment_train.isnull().sum())\n",
    "print(\"Missing Values in Testing Data:\")\n",
    "print(imdb_sentiment_test.isnull().sum())"
   ]
  },
  {
   "cell_type": "code",
   "execution_count": 10,
   "metadata": {},
   "outputs": [
    {
     "name": "stdout",
     "output_type": "stream",
     "text": [
      "Distribution of Target in Training Data:\n",
      "label\n",
      "0    12500\n",
      "1    12500\n",
      "Name: count, dtype: int64\n",
      "Distribution of Target in Testing Data:\n",
      "label\n",
      "0    12500\n",
      "1    12500\n",
      "Name: count, dtype: int64\n"
     ]
    }
   ],
   "source": [
    "# 5. Distribution of the Target Variable\n",
    "print(\"Distribution of Target in Training Data:\")\n",
    "print(imdb_sentiment_train['label'].value_counts())\n",
    "print(\"Distribution of Target in Testing Data:\")\n",
    "print(imdb_sentiment_test['label'].value_counts())"
   ]
  },
  {
   "cell_type": "code",
   "execution_count": 42,
   "metadata": {},
   "outputs": [],
   "source": [
    "from typing import List, Tuple\n",
    "\n",
    "def create_pos_neg_tuples(data: pd.DataFrame, num_samples: int) -> List[Tuple[str, str]]:\n",
    "    '''\n",
    "    Create tuples of positive and negative samples from the dataset where each text is under 400 tokens.\n",
    "    The positive sample (label=1) is always first and the negative sample (label=0) second.\n",
    "    \n",
    "    :param data: The DataFrame containing the sentiment data.\n",
    "    :param num_samples: The number of positive and negative samples to pair.\n",
    "    :return: A list of tuples with each tuple containing a positive and a negative sample.\n",
    "    '''\n",
    "    # Filter texts by token count\n",
    "    data['token_count'] = data['text'].apply(lambda x: len(x.split()))\n",
    "    data_short = data[data['token_count'] <= 200]\n",
    "    \n",
    "    # Filter out positive and negative samples\n",
    "    positive_samples = data_short[data_short['label'] == 1].head(num_samples)\n",
    "    negative_samples = data_short[data_short['label'] == 0].head(num_samples)\n",
    "    \n",
    "    # Create tuples of (positive_text, negative_text)\n",
    "    pos_neg_tuples = [(pos, neg) for pos, neg in zip(positive_samples['text'], negative_samples['text'])]\n",
    "    \n",
    "    return pos_neg_tuples"
   ]
  },
  {
   "cell_type": "code",
   "execution_count": 43,
   "metadata": {},
   "outputs": [
    {
     "name": "stdout",
     "output_type": "stream",
     "text": [
      "[('Zentropa has much in common with The Third Man, another noir-like film set among the rubble of postwar Europe. Like TTM, there is much inventive camera work. There is an innocent American who gets emotionally involved with a woman he doesn\\'t really understand, and whose naivety is all the more striking in contrast with the natives.<br /><br />But I\\'d have to say that The Third Man has a more well-crafted storyline. Zentropa is a bit disjointed in this respect. Perhaps this is intentional: it is presented as a dream/nightmare, and making it too coherent would spoil the effect. <br /><br />This movie is unrelentingly grim--\"noir\" in more than one sense; one never sees the sun shine. Grim, but intriguing, and frightening.', \"If only to avoid making this type of film in the future. This film is interesting as an experiment but tells no cogent story.<br /><br />One might feel virtuous for sitting thru it because it touches on so many IMPORTANT issues but it does so without any discernable motive. The viewer comes away with no new perspectives (unless one comes up with one while one's mind wanders, as it will invariably do during this pointless film).<br /><br />One might better spend one's time staring out a window at a tree growing.<br /><br />\"), (\"Zentropa is the most original movie I've seen in years. If you like unique thrillers that are influenced by film noir, then this is just the right cure for all of those Hollywood summer blockbusters clogging the theaters these days. Von Trier's follow-ups like Breaking the Waves have gotten more acclaim, but this is really his best work. It is flashy without being distracting and offers the perfect combination of suspense and dark humor. It's too bad he decided handheld cameras were the wave of the future. It's hard to say who talked him away from the style he exhibits here, but it's everyone's loss that he went into his heavily theoretical dogma direction instead.\", \"This film was probably inspired by Godard's Masculin, féminin and I urge you to see that film instead.<br /><br />The film has two strong elements and those are, (1) the realistic acting (2) the impressive, undeservedly good, photo. Apart from that, what strikes me most is the endless stream of silliness. Lena Nyman has to be most annoying actress in the world. She acts so stupid and with all the nudity in this film,...it's unattractive. Comparing to Godard's film, intellectuality has been replaced with stupidity. Without going too far on this subject, I would say that follows from the difference in ideals between the French and the Swedish society.<br /><br />A movie of its time, and place. 2/10.\"), ('The best way for me to describe Europa, which is high on the list of my favourite films, is the exclamation that came from a companion after the film ended: \"I didn\\'t know films could be made like that\". Entirely original in it\\'s visual style, it is one of the best examples of what cinema can be. It\\'s as far away from the \"master and coverage\" style of shooting as one can get; perfectly integrating many layers of image, sound, effects, props, dialogue, voice over, performance, editing, lighting, etc... all equal, none predominant. Despite Hollywood\\'s \"dialogue\" myopia, cinema is not about dialogue, nor is it about beautiful lighting, action or music. It works best when all the elements are on an equal footing, where ONLY the BLENDING of those elements, in the order or combination in which they are presented, will communicate the idea. Reduce or eliminate the contribution of one element, and the film has no meaning. \"Europa\" is what cinema should strive to be.', \"I would put this at the top of my list of films in the category of unwatchable trash! There are films that are bad, but the worst kind are the ones that are unwatchable but you are suppose to like them because they are supposed to be good for you! The sex sequences, so shocking in its day, couldn't even arouse a rabbit. The so called controversial politics is strictly high school sophomore amateur night Marxism. The film is self-consciously arty in the worst sense of the term. The photography is in a harsh grainy black and white. Some scenes are out of focus or taken from the wrong angle. Even the sound is bad! And some people call this art?<br /><br />\"), (\"Piece of subtle art. Maybe a masterpiece. Doubtlessly a special story about the ambiguity of existence. Tale in Kafka style about impossibility of victory or surviving in a perpetual strange world. The life is, in this film, only exercise of adaptation. Lesson about limits and original sin, about the frailty of innocence and error of his ways.<br /><br />Leopold Kessle is another Joseph K. Images of Trial and same ambiguous woman. And Europa is symbol of basic crisis who has many aspects like chimeric wars or unavailing search of truth/essence/golden age.<br /><br />Methaphor or parable, the movie is history of disappointed's evolution. War, peace, business or lie are only details of gelatin-time. Hypocrisy is a mask. Love- a convention. The sacrifice- only method to hope understanding a painful reality.\", \"Whoever wrote the screenplay for this movie obviously never consulted any books about Lucille Ball, especially her autobiography. I've never seen so many mistakes in a biopic, ranging from her early years in Celoron and Jamestown to her later years with Desi. I could write a whole list of factual errors, but it would go on for pages. In all, I believe that Lucille Ball is one of those inimitable people who simply cannot be portrayed by anyone other than themselves. If I were Lucie Arnaz and Desi, Jr., I would be irate at how many mistakes were made in this film. The filmmakers tried hard, but the movie seems awfully sloppy to me.\"), (\"As much as the movie was good, i have nothing more to say about it than what was said already. all i wanted is to point the fact that the movie isnt from Sweden but from Denemark. Maybe I wrong and in that case i'll be happy to know my mistakes so take the and notify me.\", \"I can't believe that those praising this movie herein aren't thinking of some other film. I was prepared for the possibility that this would be awful, but the script (or lack thereof) makes for a film that's also pointless. On the plus side, the general level of craft on the part of the actors and technical crew is quite competent, but when you've got a sow's ear to work with you can't make a silk purse. Ben G fans should stick with just about any other movie he's been in. Dorothy S fans should stick to Galaxina. Peter B fans should stick to Last Picture Show and Target. Fans of cheap laughs at the expense of those who seem to be asking for it should stick to Peter B's amazingly awful book, Killing of the Unicorn.\")]\n",
      "5\n",
      "2\n"
     ]
    }
   ],
   "source": [
    "# Example usage: Assuming imdb_sentiment_train is your DataFrame loaded elsewhere\n",
    "num_samples = 5  # You can change this to any number you need\n",
    "training_tuples_en = create_pos_neg_tuples(imdb_sentiment_train, num_samples)\n",
    "\n",
    "# Print the first 5 tuples to verify\n",
    "print(training_tuples_en[:5])\n",
    "# print the shape of the training tuples\n",
    "print(len(training_tuples_en))\n",
    "print(len(training_tuples_en[0]))"
   ]
  },
  {
   "cell_type": "code",
   "execution_count": 44,
   "metadata": {},
   "outputs": [],
   "source": [
    "from transformers import pipeline"
   ]
  },
  {
   "cell_type": "code",
   "execution_count": 47,
   "metadata": {},
   "outputs": [],
   "source": [
    "# function to translate given tuples in a given language to a target language\n",
    "def translate_tuples(tuples: List[Tuple[str, str]], source_lang: str, target_lang: str) -> List[Tuple[str, str]]:\n",
    "    '''\n",
    "    Translate a list of tuples from a source language to a target language.\n",
    "    \n",
    "    :param tuples: A list of tuples to translate.\n",
    "    :param source_lang: The language of the source text.\n",
    "    :param target_lang: The language to translate the source text to.\n",
    "    :return: A list of tuples with the source text translated to the target language.\n",
    "    '''\n",
    "    # Initialize the translation pipeline\n",
    "    device = get_device(device_map='auto')\n",
    "    translation_pipeline = pipeline(task=f'translation_{source_lang}_to_{target_lang}',\n",
    "                                    model=f'Helsinki-NLP/opus-mt-{source_lang}-{target_lang}',\n",
    "                                    device=device)\n",
    "    \n",
    "    # Translate each tuple\n",
    "    translated_tuples = [(translation_pipeline(tup[0])[0]['translation_text'],\n",
    "                          translation_pipeline(tup[1])[0]['translation_text']) for tup in tuples]\n",
    "    \n",
    "    return translated_tuples"
   ]
  },
  {
   "cell_type": "code",
   "execution_count": 48,
   "metadata": {},
   "outputs": [
    {
     "name": "stderr",
     "output_type": "stream",
     "text": [
      "2024-08-07 12:20:46,425 - INFO - Using device: mps\n",
      "2024-08-07 12:21:12,136 - INFO - Using device: mps\n"
     ]
    }
   ],
   "source": [
    "# translate the tuples to German and French and store them\n",
    "training_tuples_de = translate_tuples(training_tuples_en, 'en', 'de')\n",
    "training_tuples_fr = translate_tuples(training_tuples_en, 'en', 'fr')"
   ]
  },
  {
   "cell_type": "code",
   "execution_count": 49,
   "metadata": {},
   "outputs": [
    {
     "name": "stdout",
     "output_type": "stream",
     "text": [
      "[('Zentropa hat viel mit The Third Man gemein, einem anderen noir-like Film, der unter den Trümmern des Nachkriegseuropas spielt. Wie TTM gibt es viel erfinderische Kameraarbeit. Es gibt einen unschuldigen Amerikaner, der emotional mit einer Frau zu tun hat, die er nicht wirklich versteht, und deren Naivität im Gegensatz zu den Eingeborenen umso auffälliger ist. <br /><br />Aber ich müsste sagen, dass The Third Man eine wohlgefertigtere Handlungslinie hat. Zentropa ist in dieser Hinsicht etwas unzusammenhängend. Vielleicht ist dies beabsichtigt: Es wird als Traum/Nightmare präsentiert und es zu kohärent zu machen würde den Effekt verderben. <br /><br />Dieser Film ist in mehr als einem Sinne unerbittlich grim-\"noir\"; man sieht die Sonne nie. Grim, aber faszinierend und erschreckend.', 'Dieser Film ist interessant als Experiment, aber er erzählt keine gekonnte Geschichte. <br /> <br />Man mag sich tugendhaft fühlen, wenn man durch ihn sitzt, weil er so viele WICHTIGE Themen berührt, aber er tut dies ohne erkennbares Motiv. Der Betrachter entkommt ohne neue Perspektiven (es sei denn, man kommt auf eine, während der Geist wandert, wie er es immer während dieses sinnlosen Films tun wird). <br />Man könnte besser seine Zeit damit verbringen, ein Fenster auf einen Baum zu starren. <br /><br />'), ('Zentropa ist der originellste Film, den ich seit Jahren gesehen habe. Wenn Sie einzigartige Thriller mögen, die von Film Noir beeinflusst werden, dann ist dies genau das richtige Heilmittel für all diese Hollywood-Sommerblockbuster, die heutzutage die Theater verstopfen. Von Triers Follow-ups wie Breaking the Waves haben mehr Anerkennung gefunden, aber das ist wirklich seine beste Arbeit. Es ist auffällig, ohne ablenkend zu sein und bietet die perfekte Kombination aus Spannung und dunklem Humor. Schade, dass er entschieden hat, dass Handheld-Kameras die Welle der Zukunft waren. Es ist schwer zu sagen, wer ihn von dem Stil, den er hier ausstellt, weggeredet hat, aber es ist jeder Verlust, dass er stattdessen in seine stark theoretische Dogma-Richtung ging.', 'Dieser Film wurde wahrscheinlich von Godards Masculin, Féminin, inspiriert und ich fordere Sie auf, diesen Film stattdessen zu sehen. <br /><br />Der Film hat zwei starke Elemente und das sind, (1) das realistische Schauspiel (2) das beeindruckende, unverdient gute, Foto. Abgesehen davon, was mich am meisten beeindruckt, ist der endlose Strom der Siligkeit. Lena Nyman muss am meisten ärgerliche Schauspielerin in der Welt sein. Sie handelt so dumm und mit all der Nacktheit in diesem Film,... es ist unattraktiv. Im Vergleich zu Godards Film, Intellektalität wurde mit Dummheit ersetzt. Ohne zu weit zu gehen, würde ich sagen, das folgt aus dem Unterschied in den Idealen zwischen der französischen und der schwedischen Gesellschaft.<br /><br />Ein Film seiner Zeit und Ort. 2/10.'), ('Der beste Weg für mich, Europa zu beschreiben, das auf der Liste meiner Lieblingsfilme ganz oben steht, ist die Ausrufung, die von einem Kameraden nach dem Ende des Films kam: „Ich kannte Filme nicht, die man so machen konnte\". Ganz originell in seinem visuellen Stil ist sie eines der besten Beispiele dafür, was Kino sein kann. Es ist so weit weg von der „Meister- und Berichterstattungs\"-Stil des Drehens, wie man es bekommen kann; perfekt viele Schichten von Bild, Ton, Effekten, Requisiten, Dialog, Stimme over, Performance, Schnitt, Beleuchtung, etc... alles gleich, keine vorherrschende. Trotz Hollywoods „Dialog\"-Myopie geht es im Kino nicht um Dialog, noch geht es um schöne Beleuchtung, Action oder Musik. Es funktioniert am besten, wenn alle Elemente auf einer gleichberechtigten Grundlage stehen, wo NUR das BLENDEN dieser Elemente in der Reihenfolge oder Kombination, in der sie präsentiert werden, die Idee kommunizieren wird. Den Beitrag eines Elements reduzieren oder eliminieren, und der Film hat keine Bedeutung. „Europa\" ist das, was Kino sein soll.', 'Ich würde dies an die Spitze meiner Liste von Filmen in der Kategorie der nicht beobachtbaren Müll! Es gibt Filme, die schlecht sind, aber die schlechteste Art sind diejenigen, die nicht zu beobachten sind, aber Sie werden angenommen, dass sie mögen, weil sie gut für Sie sein sollen! Die Sex-Sequenzen, so schockierend in seiner Zeit, konnte nicht einmal ein Kaninchen zu wecken. Die so genannte umstrittene Politik ist streng High-School-Sophomore Amateurnacht Marxismus. Der Film ist selbstbewusst arty im schlimmsten Sinne des Begriffs. Die Fotografie ist in einem harten körnigen schwarz-weiß. Einige Szenen sind aus dem falschen Blickwinkel. Auch der Klang ist schlecht! Und einige Leute nennen diese Kunst? <br /><br />'), ('Ein Stück subtiler Kunst. Vielleicht ein Meisterwerk. Zweifellos eine besondere Geschichte über die Ambiguität des Daseins. Tale im Kafka-Stil über die Unmöglichkeit des Sieges oder das Überleben in einer ewigen fremden Welt. Das Leben ist in diesem Film nur Übung der Anpassung. Lektion über Grenzen und Erbsünde, über die Schwäche der Unschuld und Fehler seiner Wege. <br /><br />Leopold Kessle ist ein weiterer Joseph K. Bilder von Prozess und gleiche mehrdeutige Frau. Und Europa ist Symbol der grundlegenden Krise, die viele Aspekte wie chimäre Kriege oder unauslöschliche Suche nach Wahrheit/Essenz/goldenes Zeitalter hat.<br /><br />Methaphor oder Gleichnis, der Film ist Geschichte der enttäuschten Entwicklung. Krieg, Frieden, Geschäft oder Lüge sind nur Details der Gelatinzeit. Hypocrisy ist eine Maske. Liebe- eine Konvention. Die Opfer- einzige Methode, um zu hoffen, eine schmerzhafte Realität zu verstehen.', 'Wer auch immer das Drehbuch für diesen Film geschrieben hat, hat offensichtlich keine Bücher über Lucille Ball konsultiert, vor allem ihre Autobiographie. Ich habe noch nie so viele Fehler in einem Biopic gesehen, von ihren frühen Jahren in Celoron und Jamestown bis zu ihren späteren Jahren mit Desi. Ich könnte eine ganze Liste von sachlichen Fehlern schreiben, aber es würde für Seiten gehen. Alles in allem glaube ich, dass Lucille Ball einer jener unnachahmlichen Menschen ist, die einfach nicht von anderen als sich selbst dargestellt werden können. Wenn ich Lucie Arnaz und Desi, Jr. wäre ich wütend darüber, wie viele Fehler in diesem Film gemacht wurden.'), ('So sehr der Film gut war, ich habe nichts mehr darüber zu sagen, als das, was bereits gesagt wurde. Alles was ich wollte, ist darauf hinzuweisen, dass der Film aus Schweden, aber aus Denemark ist. Vielleicht habe ich mich geirrt und in diesem Fall werde ich glücklich sein, meine Fehler zu kennen, also nehmen Sie die und benachrichtigen Sie mich.', \"Ich kann nicht glauben, dass die, die diesen Film hier loben, nicht an einen anderen Film denken. Ich war auf die Möglichkeit vorbereitet, dass dies schrecklich wäre, aber das Drehbuch (oder Fehlen davon) macht einen Film, der auch sinnlos ist. Auf der Plusseite, die allgemeine Ebene des Handwerks von Seiten der Schauspieler und der technischen Crew ist ziemlich kompetent, aber wenn Sie ein Sau's Ohr haben, um mit zu arbeiten, können Sie nicht eine Seidentasche machen. Ben G Fans sollten bei fast jedem anderen Film bleiben, in dem er gewesen ist. Dorothy S Fans sollten bei Galaxina bleiben. Peter B Fans sollten bei Last Picture Show und Target bleiben. Fans von billigen Lachern auf Kosten derer, die es zu bitten scheinen, sollten sich an Peter Bs erstaunlich schreckliches Buch, Killing of the Unicorn, halten.\")]\n"
     ]
    }
   ],
   "source": [
    "print(training_tuples_de[:5])"
   ]
  },
  {
   "cell_type": "code",
   "execution_count": 38,
   "metadata": {},
   "outputs": [
    {
     "name": "stdout",
     "output_type": "stream",
     "text": [
      "[('Zentropa a beaucoup en commun avec The Third Man, un autre film de type noir qui se trouve parmi les décombres de l\\'Europe d\\'après-guerre. Comme TTM, il y a beaucoup de travail de caméra inventive. Il y a un Américain innocent qui s\\'implique émotionnellement avec une femme qu\\'il ne comprend pas vraiment, et dont la naïveté est d\\'autant plus frappante en contraste avec les natifs.<br /><br />Mais je dois dire que The Third Man a une histoire plus bien faite. Zentropa est un peu déconcertée à cet égard. Peut-être ceci est intentionnel: il est présenté comme un rêve / nightmare, et le rendre trop cohérent gâcherait l\\'effet. <br /><br />Ce film est inlassablement sombre - \"noir\" dans plus d\\'un sens; on ne voit jamais le soleil briller. Grim, mais intrigant, et effrayant.', '\"I Am Curious: Yellow\" est une pile de vapeurs risible et prétentieuse. Peu importe ce que sont les vues politiques de l\\'homme parce que ce film ne peut être pris au sérieux sur aucun niveau. Quant à l\\'affirmation que la nudité masculine frontale est une NC-17 automatique, ce n\\'est pas vrai. J\\'ai vu des films R notés avec nudité masculine. Certes, ils n\\'offrent que quelques vues fugaces, mais où sont les films R notés avec vulves et labies béantes? Nulle part, parce qu\\'ils n\\'existent pas. Il en va de même pour ces câblodisques qui se balancent dans la brise mais pas un clitoris en vue. Et ces films indies prétentieux comme The Brown Bunny, dans lesquels nous sommes traités sur le site de Johnson de Vincent Gallo, mais pas une trace de rose visible sur Chloe Sevigny.'), (\"Zentropa est le film le plus original que j'ai vu depuis des années. Si vous aimez les thrillers uniques qui sont influencés par le film noir, alors c'est juste le bon remède pour tous ces blockbusters d'été hollywoodiens qui encombrent les théâtres ces jours-ci. Les suivis de Von Trier comme Breaking the Waves ont été plus acclamés, mais c'est vraiment son meilleur travail. C'est flashy sans être distrayant et offre la combinaison parfaite de suspense et d'humour sombre.\", \"Si seulement pour éviter de faire ce type de film dans l'avenir. Ce film est intéressant comme une expérience mais ne raconte aucune histoire convaincante.<br /><br />On pourrait se sentir vertueux pour rester assis à travers elle parce qu'il touche à tant de questions IMPORTANTes mais il le fait sans aucun motif discernable. Le spectateur sort avec aucune nouvelle perspective (à moins qu'on n'en trouve une pendant que son esprit erre, comme il le fera invariablement pendant ce film inutile).<br /><br />On pourrait mieux passer son temps à regarder une fenêtre à un arbre en pleine croissance.<br /><br />\")]\n"
     ]
    }
   ],
   "source": [
    "print(training_tuples_fr[:5])"
   ]
  },
  {
   "cell_type": "code",
   "execution_count": 58,
   "metadata": {},
   "outputs": [],
   "source": [
    "# store the tuples in a json file, include the sample size, language and imdb_sentiment in the filename\n",
    "import json\n",
    "\n",
    "def store_tuples(tuples: List[Tuple[str, str]], sample_size: int, language: str, dataset_name: str):\n",
    "    '''\n",
    "    Store a list of tuples in a JSON file with the given metadata.\n",
    "    \n",
    "    :param tuples: A list of tuples to store.\n",
    "    :param sample_size: The number of samples in the list.\n",
    "    :param language: The language of the tuples.\n",
    "    :param dataset_name: The name of the dataset the tuples are from.\n",
    "    '''\n",
    "    # Create a dictionary to store the metadata and tuples\n",
    "    data = {\n",
    "        'sample_size': sample_size,\n",
    "        'language': language,\n",
    "        'dataset': dataset_name,\n",
    "        'tuples': tuples\n",
    "    }\n",
    "    \n",
    "    # Store the data in a JSON file\n",
    "    data_folder = get_data_dir(os.getcwd())\n",
    "    filename = f'{dataset_name}_{language}_{sample_size}.json'\n",
    "    file_path = os.path.join(data_folder, 'sentiment_vectors_data', filename)\n",
    "\n",
    "    # store with indent=4 for pretty printing\n",
    "\n",
    "    with open(file=file_path, mode='w') as f:\n",
    "        json.dump(data, f, indent=4)\n",
    "    "
   ]
  },
  {
   "cell_type": "code",
   "execution_count": 59,
   "metadata": {},
   "outputs": [],
   "source": [
    "# function that generates training tuples and stores them in a json file\n",
    "# input: list of languages (e.g. ['en', 'de', 'fr']), sample size, dataset name (set to 'imdb_sentiment_train')\n",
    "def generate_and_store_training_tuples(languages: List[str], sample_size: int, dataset_name: str):\n",
    "    '''\n",
    "    Generate and store training tuples for each language in the list.\n",
    "    \n",
    "    :param languages: A list of languages to generate tuples for.\n",
    "    :param sample_size: The number of samples to generate for each language.\n",
    "    :param dataset_name: The name of the dataset to generate tuples from.\n",
    "    '''\n",
    "    # Load the dataset\n",
    "    data = load_dataset(dataset_name)\n",
    "    \n",
    "    # Generate and store training tuples for each language\n",
    "    for lang in languages:\n",
    "        # Generate training tuples\n",
    "        training_tuples = create_pos_neg_tuples(data, sample_size)\n",
    "        \n",
    "        # Translate the training tuples\n",
    "        if lang != 'en':\n",
    "            training_tuples = translate_tuples(training_tuples, 'en', lang)\n",
    "        \n",
    "        # Store the training tuples\n",
    "        store_tuples(training_tuples, sample_size, lang, dataset_name)\n"
   ]
  },
  {
   "cell_type": "code",
   "execution_count": 60,
   "metadata": {},
   "outputs": [
    {
     "name": "stderr",
     "output_type": "stream",
     "text": [
      "2024-08-07 13:03:47,538 - INFO - Data directory found at /Users/joschka/Documents/0_Studium/0_ML_Master/0_current/masters_thesis/code/kasl_repe/data.\n",
      "2024-08-07 13:03:47,559 - INFO - Successfully loaded imdb_sentiment_train dataset.\n",
      "2024-08-07 13:03:47,723 - INFO - Data directory found at /Users/joschka/Documents/0_Studium/0_ML_Master/0_current/masters_thesis/code/kasl_repe/data.\n",
      "2024-08-07 13:03:47,882 - INFO - Using device: mps\n",
      "2024-08-07 13:04:14,697 - INFO - Data directory found at /Users/joschka/Documents/0_Studium/0_ML_Master/0_current/masters_thesis/code/kasl_repe/data.\n",
      "2024-08-07 13:04:14,861 - INFO - Using device: mps\n",
      "2024-08-07 13:04:41,671 - INFO - Data directory found at /Users/joschka/Documents/0_Studium/0_ML_Master/0_current/masters_thesis/code/kasl_repe/data.\n"
     ]
    }
   ],
   "source": [
    "generate_and_store_training_tuples(['en', 'de', 'fr'], 5, 'imdb_sentiment_train')"
   ]
  },
  {
   "cell_type": "code",
   "execution_count": null,
   "metadata": {},
   "outputs": [],
   "source": [
    "# Sentiment analysis\n",
    "\n",
    "# bert-base-multilingual-uncased-sentiment can do sentiment analysis in English, German, French, ...\n",
    "# https://huggingface.co/nlptown/bert-base-multilingual-uncased-sentiment\n",
    "pipe = pipeline(task='sentiment-analysis', model='nlptown/bert-base-multilingual-uncased-sentiment')"
   ]
  },
  {
   "cell_type": "code",
   "execution_count": 25,
   "metadata": {},
   "outputs": [
    {
     "data": {
      "image/png": "[encoded data removed]",
      "text/plain": [
       "<Figure size 1000x600 with 1 Axes>"
      ]
     },
     "metadata": {},
     "output_type": "display_data"
    }
   ],
   "source": [
    "import pandas as pd\n",
    "import matplotlib.pyplot as plt\n",
    "import numpy as np\n",
    "\n",
    "# Assuming imdb_sentiment_train is your DataFrame loaded elsewhere\n",
    "\n",
    "# Calculate token counts for each text\n",
    "imdb_sentiment_train['token_count'] = imdb_sentiment_train['text'].apply(lambda x: len(x.split()))\n",
    "\n",
    "# Focus on entries with token counts up to 1000\n",
    "max_token_limit = 1000\n",
    "filtered_data = imdb_sentiment_train[imdb_sentiment_train['token_count'] <= max_token_limit]\n",
    "\n",
    "# Calculate median and mean\n",
    "median_token_count = np.median(filtered_data['token_count'])\n",
    "mean_token_count = np.mean(filtered_data['token_count'])\n",
    "\n",
    "# Plotting the distribution of token counts\n",
    "plt.figure(figsize=(10, 6))\n",
    "plt.hist(filtered_data['token_count'], bins=50, color='blue', alpha=0.7)\n",
    "plt.axvline(median_token_count, color='red', linestyle='dashed', linewidth=1, label=f'Median: {median_token_count:.2f}')\n",
    "plt.axvline(mean_token_count, color='green', linestyle='dashed', linewidth=1, label=f'Mean: {mean_token_count:.2f}')\n",
    "plt.title('Distribution of Token Lengths in IMDb Sentiment Training Dataset (up to 1000 Tokens)')\n",
    "plt.xlabel('Token Count')\n",
    "plt.ylabel('Frequency')\n",
    "plt.legend()\n",
    "plt.grid(True)\n",
    "plt.show()\n"
   ]
  }
 ],
 "metadata": {
  "kernelspec": {
   "display_name": "kasl_repe_env",
   "language": "python",
   "name": "python3"
  },
  "language_info": {
   "codemirror_mode": {
    "name": "ipython",
    "version": 3
   },
   "file_extension": ".py",
   "mimetype": "text/x-python",
   "name": "python",
   "nbconvert_exporter": "python",
   "pygments_lexer": "ipython3",
   "version": "3.11.7"
  }
 },
 "nbformat": 4,
 "nbformat_minor": 2
}
